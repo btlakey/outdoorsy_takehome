{
 "cells": [
  {
   "cell_type": "code",
   "execution_count": 157,
   "id": "fcaf05c7",
   "metadata": {},
   "outputs": [],
   "source": [
    "import pandas as pd\n",
    "import numpy as np\n",
    "import matplotlib.pyplot as plt"
   ]
  },
  {
   "cell_type": "code",
   "execution_count": 158,
   "id": "6b85e782",
   "metadata": {},
   "outputs": [],
   "source": [
    "rental, booking = (pd.read_csv(f\"..\\data\\{filename}.csv\") for filename in [\n",
    "    \"outdoorsy_rental_data\", \"outdoorsy_booking_history\"\n",
    "])"
   ]
  },
  {
   "cell_type": "code",
   "execution_count": 159,
   "id": "eefc92f5",
   "metadata": {},
   "outputs": [
    {
     "data": {
      "text/html": [
       "<div>\n",
       "<style scoped>\n",
       "    .dataframe tbody tr th:only-of-type {\n",
       "        vertical-align: middle;\n",
       "    }\n",
       "\n",
       "    .dataframe tbody tr th {\n",
       "        vertical-align: top;\n",
       "    }\n",
       "\n",
       "    .dataframe thead th {\n",
       "        text-align: right;\n",
       "    }\n",
       "</style>\n",
       "<table border=\"1\" class=\"dataframe\">\n",
       "  <thead>\n",
       "    <tr style=\"text-align: right;\">\n",
       "      <th></th>\n",
       "      <th>rental_id</th>\n",
       "      <th>listing_state</th>\n",
       "      <th>vehicle_type</th>\n",
       "      <th>is_motorized</th>\n",
       "      <th>vehicle_make</th>\n",
       "      <th>vehicle_model</th>\n",
       "      <th>vehicle_year</th>\n",
       "      <th>vehicle_length</th>\n",
       "      <th>cancellation_policy</th>\n",
       "      <th>sleeps</th>\n",
       "      <th>is_festival_friendly</th>\n",
       "      <th>is_tailgate_friendly</th>\n",
       "      <th>is_pet_friendly</th>\n",
       "      <th>has_toilet</th>\n",
       "      <th>has_generator</th>\n",
       "      <th>has_inside_shower</th>\n",
       "      <th>has_refrigerator</th>\n",
       "      <th>has_wifi</th>\n",
       "    </tr>\n",
       "  </thead>\n",
       "  <tbody>\n",
       "    <tr>\n",
       "      <th>0</th>\n",
       "      <td>206969964720</td>\n",
       "      <td>CA</td>\n",
       "      <td>trailer</td>\n",
       "      <td>False</td>\n",
       "      <td>Airstream</td>\n",
       "      <td>Safari</td>\n",
       "      <td>2008</td>\n",
       "      <td>20 - 25</td>\n",
       "      <td>flexible</td>\n",
       "      <td>4</td>\n",
       "      <td>False</td>\n",
       "      <td>True</td>\n",
       "      <td>True</td>\n",
       "      <td>True</td>\n",
       "      <td>False</td>\n",
       "      <td>True</td>\n",
       "      <td>True</td>\n",
       "      <td>False</td>\n",
       "    </tr>\n",
       "    <tr>\n",
       "      <th>1</th>\n",
       "      <td>374663654160</td>\n",
       "      <td>CA</td>\n",
       "      <td>c</td>\n",
       "      <td>True</td>\n",
       "      <td>Forest River</td>\n",
       "      <td>Sunseeker</td>\n",
       "      <td>2012</td>\n",
       "      <td>30 - 35</td>\n",
       "      <td>custom</td>\n",
       "      <td>9</td>\n",
       "      <td>True</td>\n",
       "      <td>True</td>\n",
       "      <td>False</td>\n",
       "      <td>True</td>\n",
       "      <td>True</td>\n",
       "      <td>True</td>\n",
       "      <td>True</td>\n",
       "      <td>False</td>\n",
       "    </tr>\n",
       "    <tr>\n",
       "      <th>2</th>\n",
       "      <td>436102091040</td>\n",
       "      <td>CA</td>\n",
       "      <td>c</td>\n",
       "      <td>True</td>\n",
       "      <td>forest river</td>\n",
       "      <td>Sunseeker</td>\n",
       "      <td>2011</td>\n",
       "      <td>30 - 35</td>\n",
       "      <td>strict</td>\n",
       "      <td>8</td>\n",
       "      <td>True</td>\n",
       "      <td>True</td>\n",
       "      <td>True</td>\n",
       "      <td>True</td>\n",
       "      <td>True</td>\n",
       "      <td>True</td>\n",
       "      <td>True</td>\n",
       "      <td>False</td>\n",
       "    </tr>\n",
       "    <tr>\n",
       "      <th>3</th>\n",
       "      <td>494831819280</td>\n",
       "      <td>MI</td>\n",
       "      <td>b</td>\n",
       "      <td>True</td>\n",
       "      <td>Leisure Travel</td>\n",
       "      <td>Serenity</td>\n",
       "      <td>2015</td>\n",
       "      <td>25 - 30</td>\n",
       "      <td>strict</td>\n",
       "      <td>4</td>\n",
       "      <td>False</td>\n",
       "      <td>False</td>\n",
       "      <td>True</td>\n",
       "      <td>True</td>\n",
       "      <td>True</td>\n",
       "      <td>True</td>\n",
       "      <td>True</td>\n",
       "      <td>False</td>\n",
       "    </tr>\n",
       "    <tr>\n",
       "      <th>4</th>\n",
       "      <td>645780764400</td>\n",
       "      <td>KY</td>\n",
       "      <td>a</td>\n",
       "      <td>True</td>\n",
       "      <td>Thor Motor Coach</td>\n",
       "      <td>Miramar</td>\n",
       "      <td>2016</td>\n",
       "      <td>35 - 40</td>\n",
       "      <td>moderate</td>\n",
       "      <td>10</td>\n",
       "      <td>True</td>\n",
       "      <td>True</td>\n",
       "      <td>False</td>\n",
       "      <td>True</td>\n",
       "      <td>True</td>\n",
       "      <td>True</td>\n",
       "      <td>True</td>\n",
       "      <td>False</td>\n",
       "    </tr>\n",
       "  </tbody>\n",
       "</table>\n",
       "</div>"
      ],
      "text/plain": [
       "      rental_id listing_state vehicle_type  is_motorized      vehicle_make  \\\n",
       "0  206969964720            CA      trailer         False         Airstream   \n",
       "1  374663654160            CA            c          True      Forest River   \n",
       "2  436102091040            CA            c          True      forest river   \n",
       "3  494831819280            MI            b          True    Leisure Travel   \n",
       "4  645780764400            KY            a          True  Thor Motor Coach   \n",
       "\n",
       "  vehicle_model  vehicle_year vehicle_length cancellation_policy  sleeps  \\\n",
       "0        Safari          2008        20 - 25            flexible       4   \n",
       "1     Sunseeker          2012        30 - 35              custom       9   \n",
       "2     Sunseeker          2011        30 - 35              strict       8   \n",
       "3      Serenity          2015        25 - 30              strict       4   \n",
       "4       Miramar          2016        35 - 40            moderate      10   \n",
       "\n",
       "   is_festival_friendly  is_tailgate_friendly  is_pet_friendly  has_toilet  \\\n",
       "0                 False                  True             True        True   \n",
       "1                  True                  True            False        True   \n",
       "2                  True                  True             True        True   \n",
       "3                 False                 False             True        True   \n",
       "4                  True                  True            False        True   \n",
       "\n",
       "   has_generator  has_inside_shower  has_refrigerator  has_wifi  \n",
       "0          False               True              True     False  \n",
       "1           True               True              True     False  \n",
       "2           True               True              True     False  \n",
       "3           True               True              True     False  \n",
       "4           True               True              True     False  "
      ]
     },
     "execution_count": 159,
     "metadata": {},
     "output_type": "execute_result"
    }
   ],
   "source": [
    "rental.head()"
   ]
  },
  {
   "cell_type": "code",
   "execution_count": 163,
   "id": "16699937",
   "metadata": {},
   "outputs": [
    {
     "name": "stdout",
     "output_type": "stream",
     "text": [
      "3000\n",
      "3000\n"
     ]
    }
   ],
   "source": [
    "# uniquely identified by rental_id\n",
    "print(len(rental))\n",
    "print(len(pd.unique(rental[\"rental_id\"])))"
   ]
  },
  {
   "cell_type": "code",
   "execution_count": 164,
   "id": "935dcb98",
   "metadata": {},
   "outputs": [
    {
     "data": {
      "text/html": [
       "<div>\n",
       "<style scoped>\n",
       "    .dataframe tbody tr th:only-of-type {\n",
       "        vertical-align: middle;\n",
       "    }\n",
       "\n",
       "    .dataframe tbody tr th {\n",
       "        vertical-align: top;\n",
       "    }\n",
       "\n",
       "    .dataframe thead th {\n",
       "        text-align: right;\n",
       "    }\n",
       "</style>\n",
       "<table border=\"1\" class=\"dataframe\">\n",
       "  <thead>\n",
       "    <tr style=\"text-align: right;\">\n",
       "      <th></th>\n",
       "      <th>rental_id</th>\n",
       "      <th>booked_price_per_day</th>\n",
       "      <th>month_booked</th>\n",
       "    </tr>\n",
       "  </thead>\n",
       "  <tbody>\n",
       "    <tr>\n",
       "      <th>0</th>\n",
       "      <td>25313374733280</td>\n",
       "      <td>$222.31</td>\n",
       "      <td>7</td>\n",
       "    </tr>\n",
       "    <tr>\n",
       "      <th>1</th>\n",
       "      <td>13557825481920</td>\n",
       "      <td>$146.93</td>\n",
       "      <td>11</td>\n",
       "    </tr>\n",
       "    <tr>\n",
       "      <th>2</th>\n",
       "      <td>18214711249680</td>\n",
       "      <td>$183.85</td>\n",
       "      <td>9</td>\n",
       "    </tr>\n",
       "    <tr>\n",
       "      <th>3</th>\n",
       "      <td>20892146617200</td>\n",
       "      <td>$271.92</td>\n",
       "      <td>7</td>\n",
       "    </tr>\n",
       "    <tr>\n",
       "      <th>4</th>\n",
       "      <td>25286903262480</td>\n",
       "      <td>$127.84</td>\n",
       "      <td>6</td>\n",
       "    </tr>\n",
       "  </tbody>\n",
       "</table>\n",
       "</div>"
      ],
      "text/plain": [
       "        rental_id booked_price_per_day month_booked\n",
       "0  25313374733280              $222.31            7\n",
       "1  13557825481920              $146.93           11\n",
       "2  18214711249680              $183.85            9\n",
       "3  20892146617200              $271.92            7\n",
       "4  25286903262480              $127.84            6"
      ]
     },
     "execution_count": 164,
     "metadata": {},
     "output_type": "execute_result"
    }
   ],
   "source": [
    "booking.head()"
   ]
  },
  {
   "cell_type": "code",
   "execution_count": 165,
   "id": "9693b19c",
   "metadata": {},
   "outputs": [
    {
     "name": "stdout",
     "output_type": "stream",
     "text": [
      "3849\n",
      "2792\n",
      "3576\n"
     ]
    }
   ],
   "source": [
    "# not uniquely identified by rental_id & month_booked\n",
    "print(len(booking))\n",
    "print(len(np.unique(booking[\"rental_id\"])))\n",
    "print(len(booking.groupby([\"rental_id\", \"month_booked\"])))"
   ]
  },
  {
   "cell_type": "code",
   "execution_count": 166,
   "id": "d54846bd",
   "metadata": {},
   "outputs": [
    {
     "data": {
      "text/html": [
       "<div>\n",
       "<style scoped>\n",
       "    .dataframe tbody tr th:only-of-type {\n",
       "        vertical-align: middle;\n",
       "    }\n",
       "\n",
       "    .dataframe tbody tr th {\n",
       "        vertical-align: top;\n",
       "    }\n",
       "\n",
       "    .dataframe thead th {\n",
       "        text-align: right;\n",
       "    }\n",
       "</style>\n",
       "<table border=\"1\" class=\"dataframe\">\n",
       "  <thead>\n",
       "    <tr style=\"text-align: right;\">\n",
       "      <th></th>\n",
       "      <th></th>\n",
       "      <th>booked_price_per_day</th>\n",
       "    </tr>\n",
       "    <tr>\n",
       "      <th>rental_id</th>\n",
       "      <th>month_booked</th>\n",
       "      <th></th>\n",
       "    </tr>\n",
       "  </thead>\n",
       "  <tbody>\n",
       "    <tr>\n",
       "      <th>8888134909680</th>\n",
       "      <th>6</th>\n",
       "      <td>4</td>\n",
       "    </tr>\n",
       "    <tr>\n",
       "      <th>22390431864480</th>\n",
       "      <th>6</th>\n",
       "      <td>4</td>\n",
       "    </tr>\n",
       "    <tr>\n",
       "      <th>29123542804800</th>\n",
       "      <th>7</th>\n",
       "      <td>4</td>\n",
       "    </tr>\n",
       "    <tr>\n",
       "      <th>4552600485120</th>\n",
       "      <th>12</th>\n",
       "      <td>4</td>\n",
       "    </tr>\n",
       "    <tr>\n",
       "      <th>8348116905360</th>\n",
       "      <th>6</th>\n",
       "      <td>3</td>\n",
       "    </tr>\n",
       "  </tbody>\n",
       "</table>\n",
       "</div>"
      ],
      "text/plain": [
       "                             booked_price_per_day\n",
       "rental_id      month_booked                      \n",
       "8888134909680  6                                4\n",
       "22390431864480 6                                4\n",
       "29123542804800 7                                4\n",
       "4552600485120  12                               4\n",
       "8348116905360  6                                3"
      ]
     },
     "execution_count": 166,
     "metadata": {},
     "output_type": "execute_result"
    }
   ],
   "source": [
    "# in fact, there are some entirely duplicated records\n",
    "dupes = booking.groupby(\n",
    "    [\"rental_id\", \"month_booked\"]\n",
    ").count().sort_values(\n",
    "    by=\"booked_price_per_day\", ascending=False\n",
    ")\n",
    "dupes.head()"
   ]
  },
  {
   "cell_type": "code",
   "execution_count": 167,
   "id": "83bd6e48",
   "metadata": {},
   "outputs": [
    {
     "data": {
      "text/html": [
       "<div>\n",
       "<style scoped>\n",
       "    .dataframe tbody tr th:only-of-type {\n",
       "        vertical-align: middle;\n",
       "    }\n",
       "\n",
       "    .dataframe tbody tr th {\n",
       "        vertical-align: top;\n",
       "    }\n",
       "\n",
       "    .dataframe thead th {\n",
       "        text-align: right;\n",
       "    }\n",
       "</style>\n",
       "<table border=\"1\" class=\"dataframe\">\n",
       "  <thead>\n",
       "    <tr style=\"text-align: right;\">\n",
       "      <th></th>\n",
       "      <th>rental_id</th>\n",
       "      <th>booked_price_per_day</th>\n",
       "      <th>month_booked</th>\n",
       "    </tr>\n",
       "  </thead>\n",
       "  <tbody>\n",
       "    <tr>\n",
       "      <th>283</th>\n",
       "      <td>8888134909680</td>\n",
       "      <td>$92.59</td>\n",
       "      <td>6</td>\n",
       "    </tr>\n",
       "    <tr>\n",
       "      <th>1970</th>\n",
       "      <td>8888134909680</td>\n",
       "      <td>$92.59</td>\n",
       "      <td>6</td>\n",
       "    </tr>\n",
       "    <tr>\n",
       "      <th>1983</th>\n",
       "      <td>8888134909680</td>\n",
       "      <td>$86.33</td>\n",
       "      <td>6</td>\n",
       "    </tr>\n",
       "    <tr>\n",
       "      <th>2186</th>\n",
       "      <td>8888134909680</td>\n",
       "      <td>$86.33</td>\n",
       "      <td>6</td>\n",
       "    </tr>\n",
       "  </tbody>\n",
       "</table>\n",
       "</div>"
      ],
      "text/plain": [
       "          rental_id booked_price_per_day month_booked\n",
       "283   8888134909680               $92.59            6\n",
       "1970  8888134909680               $92.59            6\n",
       "1983  8888134909680               $86.33            6\n",
       "2186  8888134909680               $86.33            6"
      ]
     },
     "execution_count": 167,
     "metadata": {},
     "output_type": "execute_result"
    }
   ],
   "source": [
    "mask = (booking[\"rental_id\"]==dupes.index[0][0]) & (booking[\"month_booked\"]==dupes.index[0][1])\n",
    "booking[mask]"
   ]
  },
  {
   "cell_type": "code",
   "execution_count": 168,
   "id": "f52c4814",
   "metadata": {},
   "outputs": [],
   "source": [
    "# making the assumption that these completed duplicated records are data sanitation issues\n",
    "booking = booking.drop_duplicates()"
   ]
  },
  {
   "cell_type": "code",
   "execution_count": 169,
   "id": "0024675e",
   "metadata": {},
   "outputs": [],
   "source": [
    "df = pd.merge(rental, booking, on=\"rental_id\")"
   ]
  },
  {
   "cell_type": "markdown",
   "id": "ecb16367",
   "metadata": {},
   "source": [
    "## data exploration"
   ]
  },
  {
   "cell_type": "markdown",
   "id": "9dc59430",
   "metadata": {},
   "source": [
    "### 1. class c average rental value"
   ]
  },
  {
   "cell_type": "code",
   "execution_count": 170,
   "id": "3e24f2e6",
   "metadata": {},
   "outputs": [
    {
     "data": {
      "text/plain": [
       "trailer            1285\n",
       "c                  1049\n",
       "camper-van          539\n",
       "b                   389\n",
       "a                   314\n",
       "fifth-wheel          83\n",
       "truck-camper         62\n",
       "toy-hauler           52\n",
       "folding-trailer      46\n",
       "Name: vehicle_type, dtype: int64"
      ]
     },
     "execution_count": 170,
     "metadata": {},
     "output_type": "execute_result"
    }
   ],
   "source": [
    "df[\"vehicle_type\"].value_counts()"
   ]
  },
  {
   "cell_type": "code",
   "execution_count": 171,
   "id": "30975c64",
   "metadata": {},
   "outputs": [
    {
     "data": {
      "text/plain": [
       "6            712\n",
       "7            664\n",
       "8            525\n",
       "9            473\n",
       "10           472\n",
       "11           364\n",
       "12           325\n",
       "5            233\n",
       "July          10\n",
       "September      9\n",
       "June           8\n",
       "August         6\n",
       "December       6\n",
       "October        6\n",
       "May            3\n",
       "November       3\n",
       "Name: month_booked, dtype: int64"
      ]
     },
     "execution_count": 171,
     "metadata": {},
     "output_type": "execute_result"
    }
   ],
   "source": [
    "# need to combine numerical and string representations\n",
    "df[\"month_booked\"].value_counts()"
   ]
  },
  {
   "cell_type": "code",
   "execution_count": 179,
   "id": "f87cb735",
   "metadata": {},
   "outputs": [],
   "source": [
    "# because of string values, entire column is encoded as object\n",
    "month_dict = {\n",
    "    \"January\": \"1\",\n",
    "    \"February\": \"2\",\n",
    "    \"March\": \"3\",\n",
    "    \"April\": \"4\",\n",
    "    \"May\": \"5\",\n",
    "    \"June\": \"6\",\n",
    "    \"July\": \"7\",\n",
    "    \"August\": \"8\",\n",
    "    \"September\": \"9\",\n",
    "    \"October\": \"10\",\n",
    "    \"November\": \"11\",\n",
    "    \"December\": \"12\"\n",
    "}\n",
    "df = df.assign(month_booked_num=df[\"month_booked\"].replace(month_dict).astype(int))\n",
    "df = df.drop_duplicates()  # in case month reassignment led to more data sanitation issues\n",
    "assert df[\"month_booked_num\"].dtype == int"
   ]
  },
  {
   "cell_type": "code",
   "execution_count": 182,
   "id": "034b5fd6",
   "metadata": {},
   "outputs": [
    {
     "data": {
      "text/plain": [
       "6     720\n",
       "7     674\n",
       "8     531\n",
       "9     482\n",
       "10    478\n",
       "11    367\n",
       "12    331\n",
       "5     236\n",
       "Name: month_booked_num, dtype: int64"
      ]
     },
     "execution_count": 182,
     "metadata": {},
     "output_type": "execute_result"
    }
   ],
   "source": [
    "df[\"month_booked_num\"].value_counts()"
   ]
  },
  {
   "cell_type": "code",
   "execution_count": 183,
   "id": "b411516a",
   "metadata": {},
   "outputs": [
    {
     "data": {
      "text/plain": [
       "2208    #DIV/0!\n",
       "1983    #DIV/0!\n",
       "3220    #DIV/0!\n",
       "3235      $0.36\n",
       "1823      $0.86\n",
       "Name: booked_price_per_day, dtype: object"
      ]
     },
     "execution_count": 183,
     "metadata": {},
     "output_type": "execute_result"
    }
   ],
   "source": [
    "# uh-oh, some invalid entries in upstream data\n",
    "# these should really be encoded as null\n",
    "df[\"booked_price_per_day\"].sort_values().head()"
   ]
  },
  {
   "cell_type": "code",
   "execution_count": 184,
   "id": "9c27a0fe",
   "metadata": {},
   "outputs": [
    {
     "data": {
      "text/plain": [
       "3235       0.36\n",
       "1823       0.86\n",
       "3647       1.13\n",
       "3711       1.21\n",
       "1822       2.57\n",
       "         ...   \n",
       "730     1270.65\n",
       "1602    1520.93\n",
       "1983        NaN\n",
       "2208        NaN\n",
       "3220        NaN\n",
       "Name: booked_price_per_day_num, Length: 3819, dtype: float64"
      ]
     },
     "execution_count": 184,
     "metadata": {},
     "output_type": "execute_result"
    }
   ],
   "source": [
    "df = df.assign(booked_price_per_day_num=df[\"booked_price_per_day\"]\n",
    "    .replace(\"[$,]\", \"\", regex=True)  # remove the accounting characters\n",
    "    .replace(\"#DIV/0!\", np.nan)  # replace the div/0 with nulls (don't remove records)\n",
    "    .astype(float)  # cast as float for numerical operations\n",
    ")\n",
    "df[\"booked_price_per_day_num\"].sort_values() "
   ]
  },
  {
   "cell_type": "code",
   "execution_count": 185,
   "id": "83d97aa8",
   "metadata": {},
   "outputs": [
    {
     "name": "stdout",
     "output_type": "stream",
     "text": [
      "                        mean   median\n",
      "month_booked_num                     \n",
      "5                 215.907879  193.095\n",
      "6                 212.971243  199.790\n",
      "7                 233.187254  218.280\n",
      "8                 240.465793  231.360\n",
      "9                 245.674480  236.580\n",
      "10                242.999286  230.860\n",
      "11                234.897476  220.810\n",
      "12                242.132326  219.720\n"
     ]
    },
    {
     "data": {
      "text/plain": [
       "<AxesSubplot:title={'center':'average monthly rental rates for class c RVs'}, xlabel='month_booked_num', ylabel='nightly rate ($)'>"
      ]
     },
     "execution_count": 185,
     "metadata": {},
     "output_type": "execute_result"
    },
    {
     "data": {
      "image/png": "[encoded data removed]",
      "text/plain": [
       "<Figure size 576x576 with 1 Axes>"
      ]
     },
     "metadata": {
      "needs_background": "light"
     },
     "output_type": "display_data"
    }
   ],
   "source": [
    "mask = df[\"vehicle_type\"] == \"c\"  # only c-class RVs\n",
    "\n",
    "# groupby and take average\n",
    "# average frequently refers to mean, but can mean any aggregating function that summarizes data\n",
    "# taking both mean and median (some robustness)\n",
    "monthly_avg = df[mask].groupby(\n",
    "    \"month_booked_num\", dropna=True\n",
    ").agg([np.mean, np.median])[\"booked_price_per_day_num\"]\n",
    "\n",
    "print(monthly_avg)\n",
    "\n",
    "# non-zero lower ylim (purely for visual comparison)\n",
    "ymin, ymax = map(lambda f: f(monthly_avg[\"mean\"]), [min, max])\n",
    "monthly_avg.plot.bar(\n",
    "    ylim=(ymin*.75, ymax*1.1), figsize=(8, 8),\n",
    "    title=\"average monthly rental rates for class c RVs\", ylabel=\"nightly rate ($)\"\n",
    ")"
   ]
  },
  {
   "cell_type": "code",
   "execution_count": null,
   "id": "4e271898",
   "metadata": {},
   "outputs": [],
   "source": []
  },
  {
   "cell_type": "markdown",
   "id": "c98cce95",
   "metadata": {},
   "source": [
    "### 2. motorized vs non-motorized"
   ]
  },
  {
   "cell_type": "code",
   "execution_count": 186,
   "id": "44c23538",
   "metadata": {},
   "outputs": [
    {
     "data": {
      "text/plain": [
       "True     0.599895\n",
       "False    0.400105\n",
       "Name: is_motorized, dtype: float64"
      ]
     },
     "execution_count": 186,
     "metadata": {},
     "output_type": "execute_result"
    }
   ],
   "source": [
    "df['is_motorized'].value_counts(normalize=True)"
   ]
  },
  {
   "cell_type": "code",
   "execution_count": 67,
   "id": "7a263ad3",
   "metadata": {},
   "outputs": [
    {
     "data": {
      "text/html": [
       "<div>\n",
       "<style scoped>\n",
       "    .dataframe tbody tr th:only-of-type {\n",
       "        vertical-align: middle;\n",
       "    }\n",
       "\n",
       "    .dataframe tbody tr th {\n",
       "        vertical-align: top;\n",
       "    }\n",
       "\n",
       "    .dataframe thead th {\n",
       "        text-align: right;\n",
       "    }\n",
       "</style>\n",
       "<table border=\"1\" class=\"dataframe\">\n",
       "  <thead>\n",
       "    <tr style=\"text-align: right;\">\n",
       "      <th></th>\n",
       "      <th>vehicle_year_num</th>\n",
       "      <th>is_motorized</th>\n",
       "      <th>mean</th>\n",
       "      <th>median</th>\n",
       "      <th>std</th>\n",
       "      <th>len</th>\n",
       "    </tr>\n",
       "  </thead>\n",
       "  <tbody>\n",
       "    <tr>\n",
       "      <th>0</th>\n",
       "      <td>1945</td>\n",
       "      <td>False</td>\n",
       "      <td>86.560000</td>\n",
       "      <td>86.560</td>\n",
       "      <td>NaN</td>\n",
       "      <td>1</td>\n",
       "    </tr>\n",
       "    <tr>\n",
       "      <th>1</th>\n",
       "      <td>1962</td>\n",
       "      <td>False</td>\n",
       "      <td>99.510000</td>\n",
       "      <td>99.510</td>\n",
       "      <td>NaN</td>\n",
       "      <td>1</td>\n",
       "    </tr>\n",
       "    <tr>\n",
       "      <th>2</th>\n",
       "      <td>1965</td>\n",
       "      <td>False</td>\n",
       "      <td>134.080000</td>\n",
       "      <td>134.080</td>\n",
       "      <td>NaN</td>\n",
       "      <td>1</td>\n",
       "    </tr>\n",
       "    <tr>\n",
       "      <th>3</th>\n",
       "      <td>1971</td>\n",
       "      <td>True</td>\n",
       "      <td>146.990000</td>\n",
       "      <td>146.990</td>\n",
       "      <td>NaN</td>\n",
       "      <td>1</td>\n",
       "    </tr>\n",
       "    <tr>\n",
       "      <th>4</th>\n",
       "      <td>1972</td>\n",
       "      <td>True</td>\n",
       "      <td>194.330000</td>\n",
       "      <td>194.330</td>\n",
       "      <td>NaN</td>\n",
       "      <td>1</td>\n",
       "    </tr>\n",
       "    <tr>\n",
       "      <th>...</th>\n",
       "      <td>...</td>\n",
       "      <td>...</td>\n",
       "      <td>...</td>\n",
       "      <td>...</td>\n",
       "      <td>...</td>\n",
       "      <td>...</td>\n",
       "    </tr>\n",
       "    <tr>\n",
       "      <th>84</th>\n",
       "      <td>2020</td>\n",
       "      <td>True</td>\n",
       "      <td>305.964753</td>\n",
       "      <td>266.760</td>\n",
       "      <td>171.344095</td>\n",
       "      <td>224</td>\n",
       "    </tr>\n",
       "    <tr>\n",
       "      <th>85</th>\n",
       "      <td>2021</td>\n",
       "      <td>False</td>\n",
       "      <td>151.880769</td>\n",
       "      <td>143.240</td>\n",
       "      <td>52.543783</td>\n",
       "      <td>455</td>\n",
       "    </tr>\n",
       "    <tr>\n",
       "      <th>86</th>\n",
       "      <td>2021</td>\n",
       "      <td>True</td>\n",
       "      <td>316.259792</td>\n",
       "      <td>292.985</td>\n",
       "      <td>115.017553</td>\n",
       "      <td>289</td>\n",
       "    </tr>\n",
       "    <tr>\n",
       "      <th>87</th>\n",
       "      <td>2022</td>\n",
       "      <td>False</td>\n",
       "      <td>150.116818</td>\n",
       "      <td>140.905</td>\n",
       "      <td>32.832014</td>\n",
       "      <td>22</td>\n",
       "    </tr>\n",
       "    <tr>\n",
       "      <th>88</th>\n",
       "      <td>2022</td>\n",
       "      <td>True</td>\n",
       "      <td>345.942344</td>\n",
       "      <td>325.975</td>\n",
       "      <td>154.352205</td>\n",
       "      <td>64</td>\n",
       "    </tr>\n",
       "  </tbody>\n",
       "</table>\n",
       "<p>89 rows × 6 columns</p>\n",
       "</div>"
      ],
      "text/plain": [
       "    vehicle_year_num  is_motorized        mean   median         std  len\n",
       "0               1945         False   86.560000   86.560         NaN    1\n",
       "1               1962         False   99.510000   99.510         NaN    1\n",
       "2               1965         False  134.080000  134.080         NaN    1\n",
       "3               1971          True  146.990000  146.990         NaN    1\n",
       "4               1972          True  194.330000  194.330         NaN    1\n",
       "..               ...           ...         ...      ...         ...  ...\n",
       "84              2020          True  305.964753  266.760  171.344095  224\n",
       "85              2021         False  151.880769  143.240   52.543783  455\n",
       "86              2021          True  316.259792  292.985  115.017553  289\n",
       "87              2022         False  150.116818  140.905   32.832014   22\n",
       "88              2022          True  345.942344  325.975  154.352205   64\n",
       "\n",
       "[89 rows x 6 columns]"
      ]
     },
     "execution_count": 67,
     "metadata": {},
     "output_type": "execute_result"
    }
   ],
   "source": [
    "df = df.assign(vehicle_year_num=df[\"vehicle_year\"].replace(0, np.nan).astype(\"Int64\"))  # probably isn't 2,022 years old\n",
    "\n",
    "yearly_motor_avg = df.groupby(\n",
    "    [\"vehicle_year_num\", \"is_motorized\"], dropna=True\n",
    ").agg(\n",
    "    [np.mean, np.median, np.std, len]  # calculate within-group statistics\n",
    ")[\"booked_price_per_day_num\"]\n",
    "\n",
    "yearly_motor_avg = yearly_motor_avg.reset_index()\n",
    "yearly_motor_avg.sort_index()"
   ]
  },
  {
   "cell_type": "code",
   "execution_count": 74,
   "id": "c9a9a6ed",
   "metadata": {},
   "outputs": [
    {
     "data": {
      "image/png": "[encoded data removed]",
      "text/plain": [
       "<Figure size 864x720 with 1 Axes>"
      ]
     },
     "metadata": {
      "needs_background": "light"
     },
     "output_type": "display_data"
    }
   ],
   "source": [
    "plt.figure(figsize=(12, 10))\n",
    "scatter = plt.scatter(\n",
    "    x=yearly_motor_avg[\"vehicle_year_num\"],\n",
    "    y=yearly_motor_avg[\"mean\"],\n",
    "    c=yearly_motor_avg[\"is_motorized\"],  # color\n",
    "    s=yearly_motor_avg[\"len\"]\n",
    ")\n",
    "# add legend\n",
    "plt.legend(handles=scatter.legend_elements()[0], labels=[\"not motorized\", \"motorized\"])\n",
    "plt.title(\"mean booked_price_per_day per year by motorized status (sized by subgroup count)\")\n",
    "plt.ylabel(\"booked_price_per_day (USD)\")\n",
    "plt.xlabel(\"vehicle year\")\n",
    "\n",
    "# add horizontal lines for mean and stdev\n",
    "mu, sigma = map(lambda f: f(df[\"booked_price_per_day_num\"]), [np.mean, np.std])\n",
    "plt.axhline(y=mu, color=\"grey\", linestyle='-')\n",
    "text_x = yearly_motor_avg[\"vehicle_year_num\"].min()\n",
    "plt.text(text_x, mu*1.01, \"sample mean\")\n",
    "for s in [mu+sigma, mu-sigma]:\n",
    "    plt.axhline(y=s, color=\"red\", linestyle=':', alpha=0.5)\n",
    "    plt.text(text_x, s+3, \"1 stdev\",c='red', alpha=0.5)\n",
    "plt.show()"
   ]
  },
  {
   "cell_type": "code",
   "execution_count": 64,
   "id": "14faf643",
   "metadata": {},
   "outputs": [
    {
     "name": "stdout",
     "output_type": "stream",
     "text": [
      "796\n",
      "0.20680696284749286\n"
     ]
    }
   ],
   "source": [
    "within_std = df['booked_price_per_day_num'].between(mu-sigma, mu+sigma)\n",
    "print((~within_std).sum())  # 796 properties outside of mean +- 1stdev \n",
    "print((~within_std).mean())  # ~20%"
   ]
  },
  {
   "cell_type": "code",
   "execution_count": null,
   "id": "f1ed39d3",
   "metadata": {},
   "outputs": [],
   "source": []
  },
  {
   "cell_type": "markdown",
   "id": "e7b29c7b",
   "metadata": {},
   "source": [
    "### 3. location and seasonality"
   ]
  },
  {
   "cell_type": "code",
   "execution_count": 190,
   "id": "4ef53048",
   "metadata": {},
   "outputs": [
    {
     "data": {
      "text/html": [
       "<div>\n",
       "<style scoped>\n",
       "    .dataframe tbody tr th:only-of-type {\n",
       "        vertical-align: middle;\n",
       "    }\n",
       "\n",
       "    .dataframe tbody tr th {\n",
       "        vertical-align: top;\n",
       "    }\n",
       "\n",
       "    .dataframe thead th {\n",
       "        text-align: right;\n",
       "    }\n",
       "</style>\n",
       "<table border=\"1\" class=\"dataframe\">\n",
       "  <thead>\n",
       "    <tr style=\"text-align: right;\">\n",
       "      <th></th>\n",
       "      <th>listing_state</th>\n",
       "      <th>mean</th>\n",
       "      <th>len</th>\n",
       "    </tr>\n",
       "  </thead>\n",
       "  <tbody>\n",
       "    <tr>\n",
       "      <th>30</th>\n",
       "      <td>ND</td>\n",
       "      <td>293.250000</td>\n",
       "      <td>1</td>\n",
       "    </tr>\n",
       "    <tr>\n",
       "      <th>33</th>\n",
       "      <td>NJ</td>\n",
       "      <td>291.855577</td>\n",
       "      <td>52</td>\n",
       "    </tr>\n",
       "    <tr>\n",
       "      <th>45</th>\n",
       "      <td>SC</td>\n",
       "      <td>264.651154</td>\n",
       "      <td>52</td>\n",
       "    </tr>\n",
       "    <tr>\n",
       "      <th>54</th>\n",
       "      <td>WV</td>\n",
       "      <td>249.432000</td>\n",
       "      <td>10</td>\n",
       "    </tr>\n",
       "    <tr>\n",
       "      <th>8</th>\n",
       "      <td>CT</td>\n",
       "      <td>237.721250</td>\n",
       "      <td>16</td>\n",
       "    </tr>\n",
       "  </tbody>\n",
       "</table>\n",
       "</div>"
      ],
      "text/plain": [
       "   listing_state        mean  len\n",
       "30            ND  293.250000    1\n",
       "33            NJ  291.855577   52\n",
       "45            SC  264.651154   52\n",
       "54            WV  249.432000   10\n",
       "8             CT  237.721250   16"
      ]
     },
     "metadata": {},
     "output_type": "display_data"
    },
    {
     "data": {
      "text/html": [
       "<div>\n",
       "<style scoped>\n",
       "    .dataframe tbody tr th:only-of-type {\n",
       "        vertical-align: middle;\n",
       "    }\n",
       "\n",
       "    .dataframe tbody tr th {\n",
       "        vertical-align: top;\n",
       "    }\n",
       "\n",
       "    .dataframe thead th {\n",
       "        text-align: right;\n",
       "    }\n",
       "</style>\n",
       "<table border=\"1\" class=\"dataframe\">\n",
       "  <thead>\n",
       "    <tr style=\"text-align: right;\">\n",
       "      <th></th>\n",
       "      <th>listing_state</th>\n",
       "      <th>mean</th>\n",
       "      <th>len</th>\n",
       "    </tr>\n",
       "  </thead>\n",
       "  <tbody>\n",
       "    <tr>\n",
       "      <th>34</th>\n",
       "      <td>NM</td>\n",
       "      <td>160.334500</td>\n",
       "      <td>20</td>\n",
       "    </tr>\n",
       "    <tr>\n",
       "      <th>53</th>\n",
       "      <td>WI</td>\n",
       "      <td>156.738444</td>\n",
       "      <td>45</td>\n",
       "    </tr>\n",
       "    <tr>\n",
       "      <th>44</th>\n",
       "      <td>RI</td>\n",
       "      <td>154.096000</td>\n",
       "      <td>5</td>\n",
       "    </tr>\n",
       "    <tr>\n",
       "      <th>3</th>\n",
       "      <td>AR</td>\n",
       "      <td>152.918667</td>\n",
       "      <td>15</td>\n",
       "    </tr>\n",
       "    <tr>\n",
       "      <th>35</th>\n",
       "      <td>NSW</td>\n",
       "      <td>65.620000</td>\n",
       "      <td>1</td>\n",
       "    </tr>\n",
       "  </tbody>\n",
       "</table>\n",
       "</div>"
      ],
      "text/plain": [
       "   listing_state        mean  len\n",
       "34            NM  160.334500   20\n",
       "53            WI  156.738444   45\n",
       "44            RI  154.096000    5\n",
       "3             AR  152.918667   15\n",
       "35           NSW   65.620000    1"
      ]
     },
     "metadata": {},
     "output_type": "display_data"
    }
   ],
   "source": [
    "state_gb = df.groupby(\n",
    "    [\"listing_state\"], dropna=True\n",
    ").agg(\n",
    "    [np.mean, len]  # calculate within-group statistics\n",
    ")[\"booked_price_per_day_num\"]\n",
    "\n",
    "state_gb = state_gb.reset_index().sort_values(by=\"mean\", ascending=False)\n",
    "display(state_gb.head())\n",
    "display(state_gb.tail())\n",
    "# one dude in North Dakota swanked out\n",
    "# what I'm guessing is New South Wales (AUS) has a bit of a beater"
   ]
  },
  {
   "cell_type": "code",
   "execution_count": 99,
   "id": "78d53843",
   "metadata": {},
   "outputs": [
    {
     "data": {
      "application/vnd.plotly.v1+json": {
       "config": {
        "plotlyServerURL": "https://plot.ly"
       },
       "data": [
        {
         "coloraxis": "coloraxis",
         "geo": "geo",
         "hovertemplate": "locations=%{location}<br>color=%{z}<extra></extra>",
         "locationmode": "USA-states",
         "locations": [
          "AB",
          "AK",
          "AL",
          "AR",
          "AZ",
          "BC",
          "CA",
          "CO",
          "CT",
          "DC",
          "DE",
          "FL",
          "GA",
          "HI",
          "IA",
          "ID",
          "IL",
          "IN",
          "KS",
          "KY",
          "LA",
          "MA",
          "MD",
          "ME",
          "MI",
          "MN",
          "MO",
          "MS",
          "MT",
          "NC",
          "ND",
          "NE",
          "NH",
          "NJ",
          "NM",
          "NSW",
          "NV",
          "NY",
          "OH",
          "OK",
          "ON",
          "OR",
          "PA",
          "QC",
          "RI",
          "SC",
          "SD",
          "TN",
          "TX",
          "UT",
          "VA",
          "VT",
          "WA",
          "WI",
          "WV",
          "WY"
         ],
         "name": "",
         "type": "choropleth",
         "z": [
          194.21777777777777,
          212.33103448275864,
          186.36828571428572,
          152.91866666666664,
          182.16356020942408,
          208.39605263157895,
          212.1334007134364,
          214.09974137931033,
          237.72125,
          210.78666666666666,
          197.985,
          180.94942857142857,
          196.69888888888892,
          173.59419847328243,
          186.765,
          202.8815789473684,
          210.87360655737703,
          194.9689655172414,
          173.72,
          223.03382352941176,
          172.0195,
          220.9978947368421,
          205.5512121212121,
          178.74578947368423,
          202.9255681818182,
          203.8062068965517,
          176.40684210526317,
          218.43444444444447,
          218.64703703703705,
          187.5754368932039,
          293.25,
          209.44857142857146,
          211.06066666666666,
          304.66240740740744,
          160.3345,
          65.62,
          198.96864864864864,
          187.10515151515153,
          171.85481927710845,
          202.36045454545456,
          228.649375,
          184.11141304347825,
          221.41745454545458,
          204.28333333333333,
          154.096,
          264.6511538461539,
          185.4475,
          204.47,
          201.8623076923077,
          215.33021276595747,
          202.6208695652174,
          183.985,
          194.42418604651164,
          156.73844444444447,
          249.43199999999996,
          209.816875
         ]
        }
       ],
       "layout": {
        "coloraxis": {
         "colorbar": {
          "title": {
           "text": "color"
          }
         },
         "colorscale": [
          [
           0,
           "#440154"
          ],
          [
           0.1111111111111111,
           "#482878"
          ],
          [
           0.2222222222222222,
           "#3e4989"
          ],
          [
           0.3333333333333333,
           "#31688e"
          ],
          [
           0.4444444444444444,
           "#26828e"
          ],
          [
           0.5555555555555556,
           "#1f9e89"
          ],
          [
           0.6666666666666666,
           "#35b779"
          ],
          [
           0.7777777777777778,
           "#6ece58"
          ],
          [
           0.8888888888888888,
           "#b5de2b"
          ],
          [
           1,
           "#fde725"
          ]
         ]
        },
        "geo": {
         "center": {},
         "domain": {
          "x": [
           0,
           1
          ],
          "y": [
           0,
           1
          ]
         },
         "scope": "usa"
        },
        "legend": {
         "tracegroupgap": 0
        },
        "margin": {
         "t": 60
        },
        "template": {
         "data": {
          "bar": [
           {
            "error_x": {
             "color": "#2a3f5f"
            },
            "error_y": {
             "color": "#2a3f5f"
            },
            "marker": {
             "line": {
              "color": "#E5ECF6",
              "width": 0.5
             },
             "pattern": {
              "fillmode": "overlay",
              "size": 10,
              "solidity": 0.2
             }
            },
            "type": "bar"
           }
          ],
          "barpolar": [
           {
            "marker": {
             "line": {
              "color": "#E5ECF6",
              "width": 0.5
             },
             "pattern": {
              "fillmode": "overlay",
              "size": 10,
              "solidity": 0.2
             }
            },
            "type": "barpolar"
           }
          ],
          "carpet": [
           {
            "aaxis": {
             "endlinecolor": "#2a3f5f",
             "gridcolor": "white",
             "linecolor": "white",
             "minorgridcolor": "white",
             "startlinecolor": "#2a3f5f"
            },
            "baxis": {
             "endlinecolor": "#2a3f5f",
             "gridcolor": "white",
             "linecolor": "white",
             "minorgridcolor": "white",
             "startlinecolor": "#2a3f5f"
            },
            "type": "carpet"
           }
          ],
          "choropleth": [
           {
            "colorbar": {
             "outlinewidth": 0,
             "ticks": ""
            },
            "type": "choropleth"
           }
          ],
          "contour": [
           {
            "colorbar": {
             "outlinewidth": 0,
             "ticks": ""
            },
            "colorscale": [
             [
              0,
              "#0d0887"
             ],
             [
              0.1111111111111111,
              "#46039f"
             ],
             [
              0.2222222222222222,
              "#7201a8"
             ],
             [
              0.3333333333333333,
              "#9c179e"
             ],
             [
              0.4444444444444444,
              "#bd3786"
             ],
             [
              0.5555555555555556,
              "#d8576b"
             ],
             [
              0.6666666666666666,
              "#ed7953"
             ],
             [
              0.7777777777777778,
              "#fb9f3a"
             ],
             [
              0.8888888888888888,
              "#fdca26"
             ],
             [
              1,
              "#f0f921"
             ]
            ],
            "type": "contour"
           }
          ],
          "contourcarpet": [
           {
            "colorbar": {
             "outlinewidth": 0,
             "ticks": ""
            },
            "type": "contourcarpet"
           }
          ],
          "heatmap": [
           {
            "colorbar": {
             "outlinewidth": 0,
             "ticks": ""
            },
            "colorscale": [
             [
              0,
              "#0d0887"
             ],
             [
              0.1111111111111111,
              "#46039f"
             ],
             [
              0.2222222222222222,
              "#7201a8"
             ],
             [
              0.3333333333333333,
              "#9c179e"
             ],
             [
              0.4444444444444444,
              "#bd3786"
             ],
             [
              0.5555555555555556,
              "#d8576b"
             ],
             [
              0.6666666666666666,
              "#ed7953"
             ],
             [
              0.7777777777777778,
              "#fb9f3a"
             ],
             [
              0.8888888888888888,
              "#fdca26"
             ],
             [
              1,
              "#f0f921"
             ]
            ],
            "type": "heatmap"
           }
          ],
          "heatmapgl": [
           {
            "colorbar": {
             "outlinewidth": 0,
             "ticks": ""
            },
            "colorscale": [
             [
              0,
              "#0d0887"
             ],
             [
              0.1111111111111111,
              "#46039f"
             ],
             [
              0.2222222222222222,
              "#7201a8"
             ],
             [
              0.3333333333333333,
              "#9c179e"
             ],
             [
              0.4444444444444444,
              "#bd3786"
             ],
             [
              0.5555555555555556,
              "#d8576b"
             ],
             [
              0.6666666666666666,
              "#ed7953"
             ],
             [
              0.7777777777777778,
              "#fb9f3a"
             ],
             [
              0.8888888888888888,
              "#fdca26"
             ],
             [
              1,
              "#f0f921"
             ]
            ],
            "type": "heatmapgl"
           }
          ],
          "histogram": [
           {
            "marker": {
             "pattern": {
              "fillmode": "overlay",
              "size": 10,
              "solidity": 0.2
             }
            },
            "type": "histogram"
           }
          ],
          "histogram2d": [
           {
            "colorbar": {
             "outlinewidth": 0,
             "ticks": ""
            },
            "colorscale": [
             [
              0,
              "#0d0887"
             ],
             [
              0.1111111111111111,
              "#46039f"
             ],
             [
              0.2222222222222222,
              "#7201a8"
             ],
             [
              0.3333333333333333,
              "#9c179e"
             ],
             [
              0.4444444444444444,
              "#bd3786"
             ],
             [
              0.5555555555555556,
              "#d8576b"
             ],
             [
              0.6666666666666666,
              "#ed7953"
             ],
             [
              0.7777777777777778,
              "#fb9f3a"
             ],
             [
              0.8888888888888888,
              "#fdca26"
             ],
             [
              1,
              "#f0f921"
             ]
            ],
            "type": "histogram2d"
           }
          ],
          "histogram2dcontour": [
           {
            "colorbar": {
             "outlinewidth": 0,
             "ticks": ""
            },
            "colorscale": [
             [
              0,
              "#0d0887"
             ],
             [
              0.1111111111111111,
              "#46039f"
             ],
             [
              0.2222222222222222,
              "#7201a8"
             ],
             [
              0.3333333333333333,
              "#9c179e"
             ],
             [
              0.4444444444444444,
              "#bd3786"
             ],
             [
              0.5555555555555556,
              "#d8576b"
             ],
             [
              0.6666666666666666,
              "#ed7953"
             ],
             [
              0.7777777777777778,
              "#fb9f3a"
             ],
             [
              0.8888888888888888,
              "#fdca26"
             ],
             [
              1,
              "#f0f921"
             ]
            ],
            "type": "histogram2dcontour"
           }
          ],
          "mesh3d": [
           {
            "colorbar": {
             "outlinewidth": 0,
             "ticks": ""
            },
            "type": "mesh3d"
           }
          ],
          "parcoords": [
           {
            "line": {
             "colorbar": {
              "outlinewidth": 0,
              "ticks": ""
             }
            },
            "type": "parcoords"
           }
          ],
          "pie": [
           {
            "automargin": true,
            "type": "pie"
           }
          ],
          "scatter": [
           {
            "marker": {
             "colorbar": {
              "outlinewidth": 0,
              "ticks": ""
             }
            },
            "type": "scatter"
           }
          ],
          "scatter3d": [
           {
            "line": {
             "colorbar": {
              "outlinewidth": 0,
              "ticks": ""
             }
            },
            "marker": {
             "colorbar": {
              "outlinewidth": 0,
              "ticks": ""
             }
            },
            "type": "scatter3d"
           }
          ],
          "scattercarpet": [
           {
            "marker": {
             "colorbar": {
              "outlinewidth": 0,
              "ticks": ""
             }
            },
            "type": "scattercarpet"
           }
          ],
          "scattergeo": [
           {
            "marker": {
             "colorbar": {
              "outlinewidth": 0,
              "ticks": ""
             }
            },
            "type": "scattergeo"
           }
          ],
          "scattergl": [
           {
            "marker": {
             "colorbar": {
              "outlinewidth": 0,
              "ticks": ""
             }
            },
            "type": "scattergl"
           }
          ],
          "scattermapbox": [
           {
            "marker": {
             "colorbar": {
              "outlinewidth": 0,
              "ticks": ""
             }
            },
            "type": "scattermapbox"
           }
          ],
          "scatterpolar": [
           {
            "marker": {
             "colorbar": {
              "outlinewidth": 0,
              "ticks": ""
             }
            },
            "type": "scatterpolar"
           }
          ],
          "scatterpolargl": [
           {
            "marker": {
             "colorbar": {
              "outlinewidth": 0,
              "ticks": ""
             }
            },
            "type": "scatterpolargl"
           }
          ],
          "scatterternary": [
           {
            "marker": {
             "colorbar": {
              "outlinewidth": 0,
              "ticks": ""
             }
            },
            "type": "scatterternary"
           }
          ],
          "surface": [
           {
            "colorbar": {
             "outlinewidth": 0,
             "ticks": ""
            },
            "colorscale": [
             [
              0,
              "#0d0887"
             ],
             [
              0.1111111111111111,
              "#46039f"
             ],
             [
              0.2222222222222222,
              "#7201a8"
             ],
             [
              0.3333333333333333,
              "#9c179e"
             ],
             [
              0.4444444444444444,
              "#bd3786"
             ],
             [
              0.5555555555555556,
              "#d8576b"
             ],
             [
              0.6666666666666666,
              "#ed7953"
             ],
             [
              0.7777777777777778,
              "#fb9f3a"
             ],
             [
              0.8888888888888888,
              "#fdca26"
             ],
             [
              1,
              "#f0f921"
             ]
            ],
            "type": "surface"
           }
          ],
          "table": [
           {
            "cells": {
             "fill": {
              "color": "#EBF0F8"
             },
             "line": {
              "color": "white"
             }
            },
            "header": {
             "fill": {
              "color": "#C8D4E3"
             },
             "line": {
              "color": "white"
             }
            },
            "type": "table"
           }
          ]
         },
         "layout": {
          "annotationdefaults": {
           "arrowcolor": "#2a3f5f",
           "arrowhead": 0,
           "arrowwidth": 1
          },
          "autotypenumbers": "strict",
          "coloraxis": {
           "colorbar": {
            "outlinewidth": 0,
            "ticks": ""
           }
          },
          "colorscale": {
           "diverging": [
            [
             0,
             "#8e0152"
            ],
            [
             0.1,
             "#c51b7d"
            ],
            [
             0.2,
             "#de77ae"
            ],
            [
             0.3,
             "#f1b6da"
            ],
            [
             0.4,
             "#fde0ef"
            ],
            [
             0.5,
             "#f7f7f7"
            ],
            [
             0.6,
             "#e6f5d0"
            ],
            [
             0.7,
             "#b8e186"
            ],
            [
             0.8,
             "#7fbc41"
            ],
            [
             0.9,
             "#4d9221"
            ],
            [
             1,
             "#276419"
            ]
           ],
           "sequential": [
            [
             0,
             "#0d0887"
            ],
            [
             0.1111111111111111,
             "#46039f"
            ],
            [
             0.2222222222222222,
             "#7201a8"
            ],
            [
             0.3333333333333333,
             "#9c179e"
            ],
            [
             0.4444444444444444,
             "#bd3786"
            ],
            [
             0.5555555555555556,
             "#d8576b"
            ],
            [
             0.6666666666666666,
             "#ed7953"
            ],
            [
             0.7777777777777778,
             "#fb9f3a"
            ],
            [
             0.8888888888888888,
             "#fdca26"
            ],
            [
             1,
             "#f0f921"
            ]
           ],
           "sequentialminus": [
            [
             0,
             "#0d0887"
            ],
            [
             0.1111111111111111,
             "#46039f"
            ],
            [
             0.2222222222222222,
             "#7201a8"
            ],
            [
             0.3333333333333333,
             "#9c179e"
            ],
            [
             0.4444444444444444,
             "#bd3786"
            ],
            [
             0.5555555555555556,
             "#d8576b"
            ],
            [
             0.6666666666666666,
             "#ed7953"
            ],
            [
             0.7777777777777778,
             "#fb9f3a"
            ],
            [
             0.8888888888888888,
             "#fdca26"
            ],
            [
             1,
             "#f0f921"
            ]
           ]
          },
          "colorway": [
           "#636efa",
           "#EF553B",
           "#00cc96",
           "#ab63fa",
           "#FFA15A",
           "#19d3f3",
           "#FF6692",
           "#B6E880",
           "#FF97FF",
           "#FECB52"
          ],
          "font": {
           "color": "#2a3f5f"
          },
          "geo": {
           "bgcolor": "white",
           "lakecolor": "white",
           "landcolor": "#E5ECF6",
           "showlakes": true,
           "showland": true,
           "subunitcolor": "white"
          },
          "hoverlabel": {
           "align": "left"
          },
          "hovermode": "closest",
          "mapbox": {
           "style": "light"
          },
          "paper_bgcolor": "white",
          "plot_bgcolor": "#E5ECF6",
          "polar": {
           "angularaxis": {
            "gridcolor": "white",
            "linecolor": "white",
            "ticks": ""
           },
           "bgcolor": "#E5ECF6",
           "radialaxis": {
            "gridcolor": "white",
            "linecolor": "white",
            "ticks": ""
           }
          },
          "scene": {
           "xaxis": {
            "backgroundcolor": "#E5ECF6",
            "gridcolor": "white",
            "gridwidth": 2,
            "linecolor": "white",
            "showbackground": true,
            "ticks": "",
            "zerolinecolor": "white"
           },
           "yaxis": {
            "backgroundcolor": "#E5ECF6",
            "gridcolor": "white",
            "gridwidth": 2,
            "linecolor": "white",
            "showbackground": true,
            "ticks": "",
            "zerolinecolor": "white"
           },
           "zaxis": {
            "backgroundcolor": "#E5ECF6",
            "gridcolor": "white",
            "gridwidth": 2,
            "linecolor": "white",
            "showbackground": true,
            "ticks": "",
            "zerolinecolor": "white"
           }
          },
          "shapedefaults": {
           "line": {
            "color": "#2a3f5f"
           }
          },
          "ternary": {
           "aaxis": {
            "gridcolor": "white",
            "linecolor": "white",
            "ticks": ""
           },
           "baxis": {
            "gridcolor": "white",
            "linecolor": "white",
            "ticks": ""
           },
           "bgcolor": "#E5ECF6",
           "caxis": {
            "gridcolor": "white",
            "linecolor": "white",
            "ticks": ""
           }
          },
          "title": {
           "x": 0.05
          },
          "xaxis": {
           "automargin": true,
           "gridcolor": "white",
           "linecolor": "white",
           "ticks": "",
           "title": {
            "standoff": 15
           },
           "zerolinecolor": "white",
           "zerolinewidth": 2
          },
          "yaxis": {
           "automargin": true,
           "gridcolor": "white",
           "linecolor": "white",
           "ticks": "",
           "title": {
            "standoff": 15
           },
           "zerolinecolor": "white",
           "zerolinewidth": 2
          }
         }
        }
       }
      },
      "text/html": [
       "<div>                            <div id=\"e05d3bfb-b606-4be8-a98c-f9d155f689f9\" class=\"plotly-graph-div\" style=\"height:525px; width:100%;\"></div>            <script type=\"text/javascript\">                require([\"plotly\"], function(Plotly) {                    window.PLOTLYENV=window.PLOTLYENV || {};                                    if (document.getElementById(\"e05d3bfb-b606-4be8-a98c-f9d155f689f9\")) {                    Plotly.newPlot(                        \"e05d3bfb-b606-4be8-a98c-f9d155f689f9\",                        [{\"coloraxis\":\"coloraxis\",\"geo\":\"geo\",\"hovertemplate\":\"locations=%{location}<br>color=%{z}<extra></extra>\",\"locationmode\":\"USA-states\",\"locations\":[\"AB\",\"AK\",\"AL\",\"AR\",\"AZ\",\"BC\",\"CA\",\"CO\",\"CT\",\"DC\",\"DE\",\"FL\",\"GA\",\"HI\",\"IA\",\"ID\",\"IL\",\"IN\",\"KS\",\"KY\",\"LA\",\"MA\",\"MD\",\"ME\",\"MI\",\"MN\",\"MO\",\"MS\",\"MT\",\"NC\",\"ND\",\"NE\",\"NH\",\"NJ\",\"NM\",\"NSW\",\"NV\",\"NY\",\"OH\",\"OK\",\"ON\",\"OR\",\"PA\",\"QC\",\"RI\",\"SC\",\"SD\",\"TN\",\"TX\",\"UT\",\"VA\",\"VT\",\"WA\",\"WI\",\"WV\",\"WY\"],\"name\":\"\",\"z\":[194.21777777777777,212.33103448275864,186.36828571428572,152.91866666666664,182.16356020942408,208.39605263157895,212.1334007134364,214.09974137931033,237.72125,210.78666666666666,197.985,180.94942857142857,196.69888888888892,173.59419847328243,186.765,202.8815789473684,210.87360655737703,194.9689655172414,173.72,223.03382352941176,172.0195,220.9978947368421,205.5512121212121,178.74578947368423,202.9255681818182,203.8062068965517,176.40684210526317,218.43444444444447,218.64703703703705,187.5754368932039,293.25,209.44857142857146,211.06066666666666,304.66240740740744,160.3345,65.62,198.96864864864864,187.10515151515153,171.85481927710845,202.36045454545456,228.649375,184.11141304347825,221.41745454545458,204.28333333333333,154.096,264.6511538461539,185.4475,204.47,201.8623076923077,215.33021276595747,202.6208695652174,183.985,194.42418604651164,156.73844444444447,249.43199999999996,209.816875],\"type\":\"choropleth\"}],                        {\"template\":{\"data\":{\"bar\":[{\"error_x\":{\"color\":\"#2a3f5f\"},\"error_y\":{\"color\":\"#2a3f5f\"},\"marker\":{\"line\":{\"color\":\"#E5ECF6\",\"width\":0.5},\"pattern\":{\"fillmode\":\"overlay\",\"size\":10,\"solidity\":0.2}},\"type\":\"bar\"}],\"barpolar\":[{\"marker\":{\"line\":{\"color\":\"#E5ECF6\",\"width\":0.5},\"pattern\":{\"fillmode\":\"overlay\",\"size\":10,\"solidity\":0.2}},\"type\":\"barpolar\"}],\"carpet\":[{\"aaxis\":{\"endlinecolor\":\"#2a3f5f\",\"gridcolor\":\"white\",\"linecolor\":\"white\",\"minorgridcolor\":\"white\",\"startlinecolor\":\"#2a3f5f\"},\"baxis\":{\"endlinecolor\":\"#2a3f5f\",\"gridcolor\":\"white\",\"linecolor\":\"white\",\"minorgridcolor\":\"white\",\"startlinecolor\":\"#2a3f5f\"},\"type\":\"carpet\"}],\"choropleth\":[{\"colorbar\":{\"outlinewidth\":0,\"ticks\":\"\"},\"type\":\"choropleth\"}],\"contour\":[{\"colorbar\":{\"outlinewidth\":0,\"ticks\":\"\"},\"colorscale\":[[0.0,\"#0d0887\"],[0.1111111111111111,\"#46039f\"],[0.2222222222222222,\"#7201a8\"],[0.3333333333333333,\"#9c179e\"],[0.4444444444444444,\"#bd3786\"],[0.5555555555555556,\"#d8576b\"],[0.6666666666666666,\"#ed7953\"],[0.7777777777777778,\"#fb9f3a\"],[0.8888888888888888,\"#fdca26\"],[1.0,\"#f0f921\"]],\"type\":\"contour\"}],\"contourcarpet\":[{\"colorbar\":{\"outlinewidth\":0,\"ticks\":\"\"},\"type\":\"contourcarpet\"}],\"heatmap\":[{\"colorbar\":{\"outlinewidth\":0,\"ticks\":\"\"},\"colorscale\":[[0.0,\"#0d0887\"],[0.1111111111111111,\"#46039f\"],[0.2222222222222222,\"#7201a8\"],[0.3333333333333333,\"#9c179e\"],[0.4444444444444444,\"#bd3786\"],[0.5555555555555556,\"#d8576b\"],[0.6666666666666666,\"#ed7953\"],[0.7777777777777778,\"#fb9f3a\"],[0.8888888888888888,\"#fdca26\"],[1.0,\"#f0f921\"]],\"type\":\"heatmap\"}],\"heatmapgl\":[{\"colorbar\":{\"outlinewidth\":0,\"ticks\":\"\"},\"colorscale\":[[0.0,\"#0d0887\"],[0.1111111111111111,\"#46039f\"],[0.2222222222222222,\"#7201a8\"],[0.3333333333333333,\"#9c179e\"],[0.4444444444444444,\"#bd3786\"],[0.5555555555555556,\"#d8576b\"],[0.6666666666666666,\"#ed7953\"],[0.7777777777777778,\"#fb9f3a\"],[0.8888888888888888,\"#fdca26\"],[1.0,\"#f0f921\"]],\"type\":\"heatmapgl\"}],\"histogram\":[{\"marker\":{\"pattern\":{\"fillmode\":\"overlay\",\"size\":10,\"solidity\":0.2}},\"type\":\"histogram\"}],\"histogram2d\":[{\"colorbar\":{\"outlinewidth\":0,\"ticks\":\"\"},\"colorscale\":[[0.0,\"#0d0887\"],[0.1111111111111111,\"#46039f\"],[0.2222222222222222,\"#7201a8\"],[0.3333333333333333,\"#9c179e\"],[0.4444444444444444,\"#bd3786\"],[0.5555555555555556,\"#d8576b\"],[0.6666666666666666,\"#ed7953\"],[0.7777777777777778,\"#fb9f3a\"],[0.8888888888888888,\"#fdca26\"],[1.0,\"#f0f921\"]],\"type\":\"histogram2d\"}],\"histogram2dcontour\":[{\"colorbar\":{\"outlinewidth\":0,\"ticks\":\"\"},\"colorscale\":[[0.0,\"#0d0887\"],[0.1111111111111111,\"#46039f\"],[0.2222222222222222,\"#7201a8\"],[0.3333333333333333,\"#9c179e\"],[0.4444444444444444,\"#bd3786\"],[0.5555555555555556,\"#d8576b\"],[0.6666666666666666,\"#ed7953\"],[0.7777777777777778,\"#fb9f3a\"],[0.8888888888888888,\"#fdca26\"],[1.0,\"#f0f921\"]],\"type\":\"histogram2dcontour\"}],\"mesh3d\":[{\"colorbar\":{\"outlinewidth\":0,\"ticks\":\"\"},\"type\":\"mesh3d\"}],\"parcoords\":[{\"line\":{\"colorbar\":{\"outlinewidth\":0,\"ticks\":\"\"}},\"type\":\"parcoords\"}],\"pie\":[{\"automargin\":true,\"type\":\"pie\"}],\"scatter\":[{\"marker\":{\"colorbar\":{\"outlinewidth\":0,\"ticks\":\"\"}},\"type\":\"scatter\"}],\"scatter3d\":[{\"line\":{\"colorbar\":{\"outlinewidth\":0,\"ticks\":\"\"}},\"marker\":{\"colorbar\":{\"outlinewidth\":0,\"ticks\":\"\"}},\"type\":\"scatter3d\"}],\"scattercarpet\":[{\"marker\":{\"colorbar\":{\"outlinewidth\":0,\"ticks\":\"\"}},\"type\":\"scattercarpet\"}],\"scattergeo\":[{\"marker\":{\"colorbar\":{\"outlinewidth\":0,\"ticks\":\"\"}},\"type\":\"scattergeo\"}],\"scattergl\":[{\"marker\":{\"colorbar\":{\"outlinewidth\":0,\"ticks\":\"\"}},\"type\":\"scattergl\"}],\"scattermapbox\":[{\"marker\":{\"colorbar\":{\"outlinewidth\":0,\"ticks\":\"\"}},\"type\":\"scattermapbox\"}],\"scatterpolar\":[{\"marker\":{\"colorbar\":{\"outlinewidth\":0,\"ticks\":\"\"}},\"type\":\"scatterpolar\"}],\"scatterpolargl\":[{\"marker\":{\"colorbar\":{\"outlinewidth\":0,\"ticks\":\"\"}},\"type\":\"scatterpolargl\"}],\"scatterternary\":[{\"marker\":{\"colorbar\":{\"outlinewidth\":0,\"ticks\":\"\"}},\"type\":\"scatterternary\"}],\"surface\":[{\"colorbar\":{\"outlinewidth\":0,\"ticks\":\"\"},\"colorscale\":[[0.0,\"#0d0887\"],[0.1111111111111111,\"#46039f\"],[0.2222222222222222,\"#7201a8\"],[0.3333333333333333,\"#9c179e\"],[0.4444444444444444,\"#bd3786\"],[0.5555555555555556,\"#d8576b\"],[0.6666666666666666,\"#ed7953\"],[0.7777777777777778,\"#fb9f3a\"],[0.8888888888888888,\"#fdca26\"],[1.0,\"#f0f921\"]],\"type\":\"surface\"}],\"table\":[{\"cells\":{\"fill\":{\"color\":\"#EBF0F8\"},\"line\":{\"color\":\"white\"}},\"header\":{\"fill\":{\"color\":\"#C8D4E3\"},\"line\":{\"color\":\"white\"}},\"type\":\"table\"}]},\"layout\":{\"annotationdefaults\":{\"arrowcolor\":\"#2a3f5f\",\"arrowhead\":0,\"arrowwidth\":1},\"autotypenumbers\":\"strict\",\"coloraxis\":{\"colorbar\":{\"outlinewidth\":0,\"ticks\":\"\"}},\"colorscale\":{\"diverging\":[[0,\"#8e0152\"],[0.1,\"#c51b7d\"],[0.2,\"#de77ae\"],[0.3,\"#f1b6da\"],[0.4,\"#fde0ef\"],[0.5,\"#f7f7f7\"],[0.6,\"#e6f5d0\"],[0.7,\"#b8e186\"],[0.8,\"#7fbc41\"],[0.9,\"#4d9221\"],[1,\"#276419\"]],\"sequential\":[[0.0,\"#0d0887\"],[0.1111111111111111,\"#46039f\"],[0.2222222222222222,\"#7201a8\"],[0.3333333333333333,\"#9c179e\"],[0.4444444444444444,\"#bd3786\"],[0.5555555555555556,\"#d8576b\"],[0.6666666666666666,\"#ed7953\"],[0.7777777777777778,\"#fb9f3a\"],[0.8888888888888888,\"#fdca26\"],[1.0,\"#f0f921\"]],\"sequentialminus\":[[0.0,\"#0d0887\"],[0.1111111111111111,\"#46039f\"],[0.2222222222222222,\"#7201a8\"],[0.3333333333333333,\"#9c179e\"],[0.4444444444444444,\"#bd3786\"],[0.5555555555555556,\"#d8576b\"],[0.6666666666666666,\"#ed7953\"],[0.7777777777777778,\"#fb9f3a\"],[0.8888888888888888,\"#fdca26\"],[1.0,\"#f0f921\"]]},\"colorway\":[\"#636efa\",\"#EF553B\",\"#00cc96\",\"#ab63fa\",\"#FFA15A\",\"#19d3f3\",\"#FF6692\",\"#B6E880\",\"#FF97FF\",\"#FECB52\"],\"font\":{\"color\":\"#2a3f5f\"},\"geo\":{\"bgcolor\":\"white\",\"lakecolor\":\"white\",\"landcolor\":\"#E5ECF6\",\"showlakes\":true,\"showland\":true,\"subunitcolor\":\"white\"},\"hoverlabel\":{\"align\":\"left\"},\"hovermode\":\"closest\",\"mapbox\":{\"style\":\"light\"},\"paper_bgcolor\":\"white\",\"plot_bgcolor\":\"#E5ECF6\",\"polar\":{\"angularaxis\":{\"gridcolor\":\"white\",\"linecolor\":\"white\",\"ticks\":\"\"},\"bgcolor\":\"#E5ECF6\",\"radialaxis\":{\"gridcolor\":\"white\",\"linecolor\":\"white\",\"ticks\":\"\"}},\"scene\":{\"xaxis\":{\"backgroundcolor\":\"#E5ECF6\",\"gridcolor\":\"white\",\"gridwidth\":2,\"linecolor\":\"white\",\"showbackground\":true,\"ticks\":\"\",\"zerolinecolor\":\"white\"},\"yaxis\":{\"backgroundcolor\":\"#E5ECF6\",\"gridcolor\":\"white\",\"gridwidth\":2,\"linecolor\":\"white\",\"showbackground\":true,\"ticks\":\"\",\"zerolinecolor\":\"white\"},\"zaxis\":{\"backgroundcolor\":\"#E5ECF6\",\"gridcolor\":\"white\",\"gridwidth\":2,\"linecolor\":\"white\",\"showbackground\":true,\"ticks\":\"\",\"zerolinecolor\":\"white\"}},\"shapedefaults\":{\"line\":{\"color\":\"#2a3f5f\"}},\"ternary\":{\"aaxis\":{\"gridcolor\":\"white\",\"linecolor\":\"white\",\"ticks\":\"\"},\"baxis\":{\"gridcolor\":\"white\",\"linecolor\":\"white\",\"ticks\":\"\"},\"bgcolor\":\"#E5ECF6\",\"caxis\":{\"gridcolor\":\"white\",\"linecolor\":\"white\",\"ticks\":\"\"}},\"title\":{\"x\":0.05},\"xaxis\":{\"automargin\":true,\"gridcolor\":\"white\",\"linecolor\":\"white\",\"ticks\":\"\",\"title\":{\"standoff\":15},\"zerolinecolor\":\"white\",\"zerolinewidth\":2},\"yaxis\":{\"automargin\":true,\"gridcolor\":\"white\",\"linecolor\":\"white\",\"ticks\":\"\",\"title\":{\"standoff\":15},\"zerolinecolor\":\"white\",\"zerolinewidth\":2}}},\"geo\":{\"domain\":{\"x\":[0.0,1.0],\"y\":[0.0,1.0]},\"center\":{},\"scope\":\"usa\"},\"coloraxis\":{\"colorbar\":{\"title\":{\"text\":\"color\"}},\"colorscale\":[[0.0,\"#440154\"],[0.1111111111111111,\"#482878\"],[0.2222222222222222,\"#3e4989\"],[0.3333333333333333,\"#31688e\"],[0.4444444444444444,\"#26828e\"],[0.5555555555555556,\"#1f9e89\"],[0.6666666666666666,\"#35b779\"],[0.7777777777777778,\"#6ece58\"],[0.8888888888888888,\"#b5de2b\"],[1.0,\"#fde725\"]]},\"legend\":{\"tracegroupgap\":0},\"margin\":{\"t\":60}},                        {\"responsive\": true}                    ).then(function(){\n",
       "                            \n",
       "var gd = document.getElementById('e05d3bfb-b606-4be8-a98c-f9d155f689f9');\n",
       "var x = new MutationObserver(function (mutations, observer) {{\n",
       "        var display = window.getComputedStyle(gd).display;\n",
       "        if (!display || display === 'none') {{\n",
       "            console.log([gd, 'removed!']);\n",
       "            Plotly.purge(gd);\n",
       "            observer.disconnect();\n",
       "        }}\n",
       "}});\n",
       "\n",
       "// Listen for the removal of the full notebook cells\n",
       "var notebookContainer = gd.closest('#notebook-container');\n",
       "if (notebookContainer) {{\n",
       "    x.observe(notebookContainer, {childList: true});\n",
       "}}\n",
       "\n",
       "// Listen for the clearing of the current output cell\n",
       "var outputEl = gd.closest('.output');\n",
       "if (outputEl) {{\n",
       "    x.observe(outputEl, {childList: true});\n",
       "}}\n",
       "\n",
       "                        })                };                });            </script>        </div>"
      ]
     },
     "metadata": {},
     "output_type": "display_data"
    }
   ],
   "source": [
    "#https://plotly.com/python/choropleth-maps/#using-builtin-country-and-state-geometries\n",
    "import plotly.express as px\n",
    "\n",
    "fig = px.choropleth(\n",
    "    locations=state_gb['listing_state'],\n",
    "    locationmode=\"USA-states\",\n",
    "    color=state_gb['mean'],\n",
    "    scope=\"usa\",\n",
    "    color_continuous_scale=px.colors.sequential.Viridis\n",
    ")\n",
    "fig.show()"
   ]
  },
  {
   "cell_type": "code",
   "execution_count": 191,
   "id": "6c609fa8",
   "metadata": {},
   "outputs": [
    {
     "data": {
      "text/plain": [
       "<AxesSubplot:title={'center':'total booked price per month, may-december'}, xlabel='month_booked_num', ylabel='sum of booked_price_per_day, USD'>"
      ]
     },
     "execution_count": 191,
     "metadata": {},
     "output_type": "execute_result"
    },
    {
     "data": {
      "image/png": "[encoded data removed]",
      "text/plain": [
       "<Figure size 720x504 with 1 Axes>"
      ]
     },
     "metadata": {
      "needs_background": "light"
     },
     "output_type": "display_data"
    }
   ],
   "source": [
    "df.groupby(\"month_booked_num\").sum()[\"booked_price_per_day_num\"].plot(\n",
    "    figsize=(10, 7), title=\"total booked price per month, may-december\", ylabel=\"sum of booked_price_per_day, USD\"\n",
    ")"
   ]
  },
  {
   "cell_type": "code",
   "execution_count": null,
   "id": "f4199802",
   "metadata": {},
   "outputs": [],
   "source": []
  },
  {
   "cell_type": "markdown",
   "id": "c1fd9645",
   "metadata": {},
   "source": [
    "### modeling"
   ]
  },
  {
   "cell_type": "code",
   "execution_count": 194,
   "id": "de7709c9",
   "metadata": {},
   "outputs": [
    {
     "data": {
      "text/plain": [
       "rental_id                     0\n",
       "listing_state                19\n",
       "vehicle_type                  0\n",
       "is_motorized                  0\n",
       "vehicle_make                 34\n",
       "vehicle_model                23\n",
       "vehicle_year                  0\n",
       "vehicle_length                0\n",
       "cancellation_policy         113\n",
       "sleeps                        0\n",
       "is_festival_friendly          0\n",
       "is_tailgate_friendly          0\n",
       "is_pet_friendly               0\n",
       "has_toilet                    0\n",
       "has_generator                 0\n",
       "has_inside_shower             0\n",
       "has_refrigerator              0\n",
       "has_wifi                      0\n",
       "booked_price_per_day          0\n",
       "month_booked                  0\n",
       "month_booked_num              0\n",
       "booked_price_per_day_num      3\n",
       "dtype: int64"
      ]
     },
     "execution_count": 194,
     "metadata": {},
     "output_type": "execute_result"
    }
   ],
   "source": [
    "pd.isnull(df).sum()"
   ]
  },
  {
   "cell_type": "code",
   "execution_count": 247,
   "id": "a565e3a3",
   "metadata": {},
   "outputs": [],
   "source": [
    "# drop record when both vehicle make and model are null\n",
    "mask = [pd.notnull(df[col]) for col in [\"vehicle_make\", \"vehicle_model\"]]\n",
    "df_model = df[(mask[0]) | (mask[1])]  # inclusive or"
   ]
  },
  {
   "cell_type": "code",
   "execution_count": 248,
   "id": "12d0c9e3",
   "metadata": {},
   "outputs": [
    {
     "data": {
      "text/html": [
       "<div>\n",
       "<style scoped>\n",
       "    .dataframe tbody tr th:only-of-type {\n",
       "        vertical-align: middle;\n",
       "    }\n",
       "\n",
       "    .dataframe tbody tr th {\n",
       "        vertical-align: top;\n",
       "    }\n",
       "\n",
       "    .dataframe thead th {\n",
       "        text-align: right;\n",
       "    }\n",
       "</style>\n",
       "<table border=\"1\" class=\"dataframe\">\n",
       "  <thead>\n",
       "    <tr style=\"text-align: right;\">\n",
       "      <th></th>\n",
       "      <th>rental_id</th>\n",
       "      <th>listing_state</th>\n",
       "      <th>vehicle_type</th>\n",
       "      <th>is_motorized</th>\n",
       "      <th>vehicle_make</th>\n",
       "      <th>vehicle_model</th>\n",
       "      <th>vehicle_year</th>\n",
       "      <th>vehicle_length</th>\n",
       "      <th>cancellation_policy</th>\n",
       "      <th>sleeps</th>\n",
       "      <th>...</th>\n",
       "      <th>is_pet_friendly</th>\n",
       "      <th>has_toilet</th>\n",
       "      <th>has_generator</th>\n",
       "      <th>has_inside_shower</th>\n",
       "      <th>has_refrigerator</th>\n",
       "      <th>has_wifi</th>\n",
       "      <th>booked_price_per_day</th>\n",
       "      <th>month_booked</th>\n",
       "      <th>month_booked_num</th>\n",
       "      <th>booked_price_per_day_num</th>\n",
       "    </tr>\n",
       "  </thead>\n",
       "  <tbody>\n",
       "    <tr>\n",
       "      <th>2667</th>\n",
       "      <td>27851557852080</td>\n",
       "      <td>GA</td>\n",
       "      <td>trailer</td>\n",
       "      <td>False</td>\n",
       "      <td>NaN</td>\n",
       "      <td>Bullet 330 BHS</td>\n",
       "      <td>2021</td>\n",
       "      <td>35 - 40</td>\n",
       "      <td>moderate</td>\n",
       "      <td>10</td>\n",
       "      <td>...</td>\n",
       "      <td>False</td>\n",
       "      <td>True</td>\n",
       "      <td>True</td>\n",
       "      <td>True</td>\n",
       "      <td>True</td>\n",
       "      <td>False</td>\n",
       "      <td>$183.99</td>\n",
       "      <td>7</td>\n",
       "      <td>7</td>\n",
       "      <td>183.99</td>\n",
       "    </tr>\n",
       "    <tr>\n",
       "      <th>2668</th>\n",
       "      <td>27851557852080</td>\n",
       "      <td>GA</td>\n",
       "      <td>trailer</td>\n",
       "      <td>False</td>\n",
       "      <td>NaN</td>\n",
       "      <td>Bullet 330 BHS</td>\n",
       "      <td>2021</td>\n",
       "      <td>35 - 40</td>\n",
       "      <td>moderate</td>\n",
       "      <td>10</td>\n",
       "      <td>...</td>\n",
       "      <td>False</td>\n",
       "      <td>True</td>\n",
       "      <td>True</td>\n",
       "      <td>True</td>\n",
       "      <td>True</td>\n",
       "      <td>False</td>\n",
       "      <td>$151.28</td>\n",
       "      <td>6</td>\n",
       "      <td>6</td>\n",
       "      <td>151.28</td>\n",
       "    </tr>\n",
       "    <tr>\n",
       "      <th>2887</th>\n",
       "      <td>28624401676320</td>\n",
       "      <td>CA</td>\n",
       "      <td>c</td>\n",
       "      <td>True</td>\n",
       "      <td>NaN</td>\n",
       "      <td>Greyhawk</td>\n",
       "      <td>2021</td>\n",
       "      <td>25 - 30</td>\n",
       "      <td>moderate</td>\n",
       "      <td>8</td>\n",
       "      <td>...</td>\n",
       "      <td>True</td>\n",
       "      <td>True</td>\n",
       "      <td>True</td>\n",
       "      <td>True</td>\n",
       "      <td>True</td>\n",
       "      <td>False</td>\n",
       "      <td>$320.47</td>\n",
       "      <td>12</td>\n",
       "      <td>12</td>\n",
       "      <td>320.47</td>\n",
       "    </tr>\n",
       "    <tr>\n",
       "      <th>2888</th>\n",
       "      <td>28624401676320</td>\n",
       "      <td>CA</td>\n",
       "      <td>c</td>\n",
       "      <td>True</td>\n",
       "      <td>NaN</td>\n",
       "      <td>Greyhawk</td>\n",
       "      <td>2021</td>\n",
       "      <td>25 - 30</td>\n",
       "      <td>moderate</td>\n",
       "      <td>8</td>\n",
       "      <td>...</td>\n",
       "      <td>True</td>\n",
       "      <td>True</td>\n",
       "      <td>True</td>\n",
       "      <td>True</td>\n",
       "      <td>True</td>\n",
       "      <td>False</td>\n",
       "      <td>$359.07</td>\n",
       "      <td>12</td>\n",
       "      <td>12</td>\n",
       "      <td>359.07</td>\n",
       "    </tr>\n",
       "    <tr>\n",
       "      <th>2889</th>\n",
       "      <td>28624401676320</td>\n",
       "      <td>CA</td>\n",
       "      <td>c</td>\n",
       "      <td>True</td>\n",
       "      <td>NaN</td>\n",
       "      <td>Greyhawk</td>\n",
       "      <td>2021</td>\n",
       "      <td>25 - 30</td>\n",
       "      <td>moderate</td>\n",
       "      <td>8</td>\n",
       "      <td>...</td>\n",
       "      <td>True</td>\n",
       "      <td>True</td>\n",
       "      <td>True</td>\n",
       "      <td>True</td>\n",
       "      <td>True</td>\n",
       "      <td>False</td>\n",
       "      <td>$357.28</td>\n",
       "      <td>6</td>\n",
       "      <td>6</td>\n",
       "      <td>357.28</td>\n",
       "    </tr>\n",
       "    <tr>\n",
       "      <th>3079</th>\n",
       "      <td>29241987246240</td>\n",
       "      <td>QC</td>\n",
       "      <td>c</td>\n",
       "      <td>True</td>\n",
       "      <td>NaN</td>\n",
       "      <td>CTV</td>\n",
       "      <td>2013</td>\n",
       "      <td>20 - 25</td>\n",
       "      <td>moderate</td>\n",
       "      <td>4</td>\n",
       "      <td>...</td>\n",
       "      <td>False</td>\n",
       "      <td>True</td>\n",
       "      <td>False</td>\n",
       "      <td>True</td>\n",
       "      <td>True</td>\n",
       "      <td>False</td>\n",
       "      <td>$180.14</td>\n",
       "      <td>11</td>\n",
       "      <td>11</td>\n",
       "      <td>180.14</td>\n",
       "    </tr>\n",
       "    <tr>\n",
       "      <th>3080</th>\n",
       "      <td>29241987246240</td>\n",
       "      <td>QC</td>\n",
       "      <td>c</td>\n",
       "      <td>True</td>\n",
       "      <td>NaN</td>\n",
       "      <td>CTV</td>\n",
       "      <td>2013</td>\n",
       "      <td>20 - 25</td>\n",
       "      <td>moderate</td>\n",
       "      <td>4</td>\n",
       "      <td>...</td>\n",
       "      <td>False</td>\n",
       "      <td>True</td>\n",
       "      <td>False</td>\n",
       "      <td>True</td>\n",
       "      <td>True</td>\n",
       "      <td>False</td>\n",
       "      <td>$224.65</td>\n",
       "      <td>10</td>\n",
       "      <td>10</td>\n",
       "      <td>224.65</td>\n",
       "    </tr>\n",
       "    <tr>\n",
       "      <th>3081</th>\n",
       "      <td>29241987246240</td>\n",
       "      <td>QC</td>\n",
       "      <td>c</td>\n",
       "      <td>True</td>\n",
       "      <td>NaN</td>\n",
       "      <td>CTV</td>\n",
       "      <td>2013</td>\n",
       "      <td>20 - 25</td>\n",
       "      <td>moderate</td>\n",
       "      <td>4</td>\n",
       "      <td>...</td>\n",
       "      <td>False</td>\n",
       "      <td>True</td>\n",
       "      <td>False</td>\n",
       "      <td>True</td>\n",
       "      <td>True</td>\n",
       "      <td>False</td>\n",
       "      <td>$459.65</td>\n",
       "      <td>6</td>\n",
       "      <td>6</td>\n",
       "      <td>459.65</td>\n",
       "    </tr>\n",
       "    <tr>\n",
       "      <th>3512</th>\n",
       "      <td>31217128337280</td>\n",
       "      <td>CO</td>\n",
       "      <td>c</td>\n",
       "      <td>True</td>\n",
       "      <td>NaN</td>\n",
       "      <td>Chateau Citation Sprinter</td>\n",
       "      <td>2017</td>\n",
       "      <td>20 - 25</td>\n",
       "      <td>flexible</td>\n",
       "      <td>6</td>\n",
       "      <td>...</td>\n",
       "      <td>True</td>\n",
       "      <td>True</td>\n",
       "      <td>True</td>\n",
       "      <td>True</td>\n",
       "      <td>True</td>\n",
       "      <td>False</td>\n",
       "      <td>$287.04</td>\n",
       "      <td>8</td>\n",
       "      <td>8</td>\n",
       "      <td>287.04</td>\n",
       "    </tr>\n",
       "    <tr>\n",
       "      <th>3513</th>\n",
       "      <td>31217128337280</td>\n",
       "      <td>CO</td>\n",
       "      <td>c</td>\n",
       "      <td>True</td>\n",
       "      <td>NaN</td>\n",
       "      <td>Chateau Citation Sprinter</td>\n",
       "      <td>2017</td>\n",
       "      <td>20 - 25</td>\n",
       "      <td>flexible</td>\n",
       "      <td>6</td>\n",
       "      <td>...</td>\n",
       "      <td>True</td>\n",
       "      <td>True</td>\n",
       "      <td>True</td>\n",
       "      <td>True</td>\n",
       "      <td>True</td>\n",
       "      <td>False</td>\n",
       "      <td>$246.58</td>\n",
       "      <td>10</td>\n",
       "      <td>10</td>\n",
       "      <td>246.58</td>\n",
       "    </tr>\n",
       "    <tr>\n",
       "      <th>3591</th>\n",
       "      <td>31695584781600</td>\n",
       "      <td>ON</td>\n",
       "      <td>camper-van</td>\n",
       "      <td>True</td>\n",
       "      <td>NaN</td>\n",
       "      <td>T3 Westfalia</td>\n",
       "      <td>1989</td>\n",
       "      <td>15 - 20</td>\n",
       "      <td>moderate</td>\n",
       "      <td>4</td>\n",
       "      <td>...</td>\n",
       "      <td>True</td>\n",
       "      <td>False</td>\n",
       "      <td>False</td>\n",
       "      <td>False</td>\n",
       "      <td>False</td>\n",
       "      <td>False</td>\n",
       "      <td>$232.76</td>\n",
       "      <td>9</td>\n",
       "      <td>9</td>\n",
       "      <td>232.76</td>\n",
       "    </tr>\n",
       "  </tbody>\n",
       "</table>\n",
       "<p>11 rows × 22 columns</p>\n",
       "</div>"
      ],
      "text/plain": [
       "           rental_id listing_state vehicle_type  is_motorized vehicle_make  \\\n",
       "2667  27851557852080            GA      trailer         False          NaN   \n",
       "2668  27851557852080            GA      trailer         False          NaN   \n",
       "2887  28624401676320            CA            c          True          NaN   \n",
       "2888  28624401676320            CA            c          True          NaN   \n",
       "2889  28624401676320            CA            c          True          NaN   \n",
       "3079  29241987246240            QC            c          True          NaN   \n",
       "3080  29241987246240            QC            c          True          NaN   \n",
       "3081  29241987246240            QC            c          True          NaN   \n",
       "3512  31217128337280            CO            c          True          NaN   \n",
       "3513  31217128337280            CO            c          True          NaN   \n",
       "3591  31695584781600            ON   camper-van          True          NaN   \n",
       "\n",
       "                  vehicle_model  vehicle_year vehicle_length  \\\n",
       "2667             Bullet 330 BHS          2021        35 - 40   \n",
       "2668             Bullet 330 BHS          2021        35 - 40   \n",
       "2887                   Greyhawk          2021        25 - 30   \n",
       "2888                   Greyhawk          2021        25 - 30   \n",
       "2889                   Greyhawk          2021        25 - 30   \n",
       "3079                        CTV          2013        20 - 25   \n",
       "3080                        CTV          2013        20 - 25   \n",
       "3081                        CTV          2013        20 - 25   \n",
       "3512  Chateau Citation Sprinter          2017        20 - 25   \n",
       "3513  Chateau Citation Sprinter          2017        20 - 25   \n",
       "3591               T3 Westfalia          1989        15 - 20   \n",
       "\n",
       "     cancellation_policy  sleeps  ...  is_pet_friendly  has_toilet  \\\n",
       "2667            moderate      10  ...            False        True   \n",
       "2668            moderate      10  ...            False        True   \n",
       "2887            moderate       8  ...             True        True   \n",
       "2888            moderate       8  ...             True        True   \n",
       "2889            moderate       8  ...             True        True   \n",
       "3079            moderate       4  ...            False        True   \n",
       "3080            moderate       4  ...            False        True   \n",
       "3081            moderate       4  ...            False        True   \n",
       "3512            flexible       6  ...             True        True   \n",
       "3513            flexible       6  ...             True        True   \n",
       "3591            moderate       4  ...             True       False   \n",
       "\n",
       "      has_generator  has_inside_shower  has_refrigerator  has_wifi  \\\n",
       "2667           True               True              True     False   \n",
       "2668           True               True              True     False   \n",
       "2887           True               True              True     False   \n",
       "2888           True               True              True     False   \n",
       "2889           True               True              True     False   \n",
       "3079          False               True              True     False   \n",
       "3080          False               True              True     False   \n",
       "3081          False               True              True     False   \n",
       "3512           True               True              True     False   \n",
       "3513           True               True              True     False   \n",
       "3591          False              False             False     False   \n",
       "\n",
       "      booked_price_per_day  month_booked month_booked_num  \\\n",
       "2667               $183.99             7                7   \n",
       "2668               $151.28             6                6   \n",
       "2887               $320.47            12               12   \n",
       "2888               $359.07            12               12   \n",
       "2889               $357.28             6                6   \n",
       "3079               $180.14            11               11   \n",
       "3080               $224.65            10               10   \n",
       "3081               $459.65             6                6   \n",
       "3512               $287.04             8                8   \n",
       "3513               $246.58            10               10   \n",
       "3591               $232.76             9                9   \n",
       "\n",
       "     booked_price_per_day_num  \n",
       "2667                   183.99  \n",
       "2668                   151.28  \n",
       "2887                   320.47  \n",
       "2888                   359.07  \n",
       "2889                   357.28  \n",
       "3079                   180.14  \n",
       "3080                   224.65  \n",
       "3081                   459.65  \n",
       "3512                   287.04  \n",
       "3513                   246.58  \n",
       "3591                   232.76  \n",
       "\n",
       "[11 rows x 22 columns]"
      ]
     },
     "execution_count": 248,
     "metadata": {},
     "output_type": "execute_result"
    }
   ],
   "source": [
    "# can we determine the make or model manually?\n",
    "# with only 11 records, manual is feasible\n",
    "make_mod_cols = [\"vehicle_make\", \"vehicle_model\"]\n",
    "mask = [pd.isnull(df_model[col]) for col in make_mod_cols]\n",
    "df_model[(mask[0]) | (mask[1])]  # inclusive or"
   ]
  },
  {
   "cell_type": "code",
   "execution_count": 249,
   "id": "24a6ea0a",
   "metadata": {},
   "outputs": [],
   "source": [
    "pd.options.mode.chained_assignment = None  # I know what I'm doing, promise... \n",
    "\n",
    "# lower case and account for minimal formatting\n",
    "# it would be an entire NLP effort to clean up, combine, and extract reliable make and models from this data\n",
    "# consider adding trim/version column (eg: make=Ford, model=Econoline, trim=250s)\n",
    "# consider implementing close-ended data input on the front-end, using industry make/model information\n",
    "\n",
    "for col in make_mod_cols:\n",
    "    df_model[col] = df_model[col].str.lower().replace(\"[-]\", \" \", regex=True)"
   ]
  },
  {
   "cell_type": "code",
   "execution_count": 254,
   "id": "10bbeaa8",
   "metadata": {},
   "outputs": [],
   "source": [
    "# oh lordy\n",
    "# set(df_model['vehicle_model'])"
   ]
  },
  {
   "cell_type": "code",
   "execution_count": 252,
   "id": "f4e384d6",
   "metadata": {},
   "outputs": [],
   "source": [
    "# object-oriented is the pythonic way...\n",
    "df_model = df_model.dropna(subset=[\"booked_price_per_day_num\"]).fillna(\"not specified (NaN)\")\n",
    "# either individually-identifying or superseded with numerical column\n",
    "df_model = df_model.drop([\"rental_id\", \"month_booked\", \"booked_price_per_day\"], axis=1)"
   ]
  },
  {
   "cell_type": "code",
   "execution_count": 253,
   "id": "54675aee",
   "metadata": {},
   "outputs": [
    {
     "data": {
      "text/plain": [
       "moderate               1537\n",
       "flexible               1489\n",
       "strict                  623\n",
       "not specified (NaN)     109\n",
       "custom                   35\n",
       "Name: cancellation_policy, dtype: int64"
      ]
     },
     "execution_count": 253,
     "metadata": {},
     "output_type": "execute_result"
    }
   ],
   "source": [
    "# an example of filling cancellation policy with NaN\n",
    "# this could potentially be recoded as ordinal rather than categorical,\n",
    "  # as there is a relationship between flexible, moderate, strict\n",
    "pd.value_counts(df_model[\"cancellation_policy\"], dropna=False)"
   ]
  },
  {
   "cell_type": "code",
   "execution_count": 289,
   "id": "09835376",
   "metadata": {},
   "outputs": [],
   "source": [
    "# vehicle length is a string, could be a useful numerical\n",
    "df_model[[\"vehicle_length_min\", \"vehicle_length_max\"]] = df_model[\"vehicle_length\"].str.split(\" - \", expand=True)\n",
    "# still account for the >= 40ers\n",
    "df_model[\"vehicle_length_min\"] = df_model[\"vehicle_length_min\"].str.replace(\">= \", \"\").astype(int)\n",
    "# this is not scientific, but filling in >=40 max with twice the range of other levels (40 + 5*2 = 50)\n",
    "df_model[\"vehicle_length_max\"] = df_model[\"vehicle_length_max\"].fillna(50).astype(int)"
   ]
  },
  {
   "cell_type": "code",
   "execution_count": 291,
   "id": "27566217",
   "metadata": {},
   "outputs": [],
   "source": [
    "df_model = df_model.drop([\"rental_id\", \"month_booked\", \"booked_price_per_day\", \"vehicle_length\"], axis=1)"
   ]
  },
  {
   "cell_type": "code",
   "execution_count": 292,
   "id": "780e66bf",
   "metadata": {},
   "outputs": [
    {
     "data": {
      "text/plain": [
       "listing_state                object\n",
       "vehicle_type                 object\n",
       "is_motorized                   bool\n",
       "vehicle_make                 object\n",
       "vehicle_model                object\n",
       "vehicle_year                  int64\n",
       "cancellation_policy          object\n",
       "sleeps                        int64\n",
       "is_festival_friendly           bool\n",
       "is_tailgate_friendly           bool\n",
       "is_pet_friendly                bool\n",
       "has_toilet                     bool\n",
       "has_generator                  bool\n",
       "has_inside_shower              bool\n",
       "has_refrigerator               bool\n",
       "has_wifi                       bool\n",
       "month_booked_num              int32\n",
       "booked_price_per_day_num    float64\n",
       "vehicle_length_min            int32\n",
       "vehicle_length_max            int32\n",
       "dtype: object"
      ]
     },
     "execution_count": 292,
     "metadata": {},
     "output_type": "execute_result"
    }
   ],
   "source": [
    "df_model.dtypes"
   ]
  },
  {
   "cell_type": "code",
   "execution_count": null,
   "id": "fd5616ed",
   "metadata": {},
   "outputs": [],
   "source": []
  }
 ],
 "metadata": {
  "kernelspec": {
   "display_name": "Python 3 (ipykernel)",
   "language": "python",
   "name": "python3"
  },
  "language_info": {
   "codemirror_mode": {
    "name": "ipython",
    "version": 3
   },
   "file_extension": ".py",
   "mimetype": "text/x-python",
   "name": "python",
   "nbconvert_exporter": "python",
   "pygments_lexer": "ipython3",
   "version": "3.9.7"
  }
 },
 "nbformat": 4,
 "nbformat_minor": 5
}
